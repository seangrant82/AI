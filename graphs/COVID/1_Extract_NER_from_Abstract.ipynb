{
 "cells": [
  {
   "cell_type": "markdown",
   "metadata": {},
   "source": [
    "# Import packages"
   ]
  },
  {
   "cell_type": "code",
   "execution_count": 1,
   "metadata": {
    "ExecuteTime": {
     "end_time": "2020-06-14T14:46:37.762822Z",
     "start_time": "2020-06-14T14:46:36.928825Z"
    }
   },
   "outputs": [
    {
     "name": "stderr",
     "output_type": "stream",
     "text": [
      "c:\\programdata\\anaconda3\\envs\\graph\\lib\\site-packages\\tqdm\\std.py:668: FutureWarning: The Panel class is removed from pandas. Accessing it from the top-level namespace will also be removed in the next version\n",
      "  from pandas import Panel\n"
     ]
    },
    {
     "data": {
      "text/html": [
       "<style>.container { width:100% !important; }</style>"
      ],
      "text/plain": [
       "<IPython.core.display.HTML object>"
      ]
     },
     "metadata": {},
     "output_type": "display_data"
    },
    {
     "data": {
      "text/html": [
       "<style>.output_result { max-width:100% !important; }</style>"
      ],
      "text/plain": [
       "<IPython.core.display.HTML object>"
      ]
     },
     "metadata": {},
     "output_type": "display_data"
    }
   ],
   "source": [
    "import pyforest\n",
    "from tqdm import tqdm, tqdm_notebook\n",
    "import spacy\n",
    "import scispacy  # https://allenai.github.io/scispacy/\n",
    "spacy.prefer_gpu()\n",
    "from spacy import displacy\n",
    "from tqdm import tqdm, tqdm_notebook\n",
    "tqdm.pandas(tqdm_notebook)\n",
    "import uuid\n",
    "from colorama import Fore\n",
    "\n",
    "from IPython.core.display import display, HTML\n",
    "display(HTML(\"<style>.container { width:100% !important; }</style>\"))\n",
    "display(HTML(\"<style>.output_result { max-width:100% !important; }</style>\"))"
   ]
  },
  {
   "cell_type": "markdown",
   "metadata": {},
   "source": [
    "# Load data from CDC and start processing for NER"
   ]
  },
  {
   "cell_type": "code",
   "execution_count": 2,
   "metadata": {
    "ExecuteTime": {
     "end_time": "2020-06-14T14:46:38.565863Z",
     "start_time": "2020-06-14T14:46:37.764820Z"
    }
   },
   "outputs": [
    {
     "data": {
      "application/javascript": [
       "\n",
       "        if (window._pyforest_update_imports_cell) { window._pyforest_update_imports_cell('import pandas as pd'); }\n",
       "    "
      ],
      "text/plain": [
       "<IPython.core.display.Javascript object>"
      ]
     },
     "metadata": {},
     "output_type": "display_data"
    }
   ],
   "source": [
    "df=pd.read_csv('D:/GitHub/COVID-19/data/CDC/All_Articles_Excel.csv',encoding='utf-8', \n",
    "               usecols=[\"Abstract\",\"Title\",\"Author\",\"Journal/Publisher\",\"Year\",\"Name of Database\"], \n",
    "               dtype={'Abstract': str,'Title': str,'Journal/Publisher': str,'Author': str,'Name of Database': str,'Year': str})"
   ]
  },
  {
   "cell_type": "code",
   "execution_count": 3,
   "metadata": {
    "ExecuteTime": {
     "end_time": "2020-06-14T14:46:38.571840Z",
     "start_time": "2020-06-14T14:46:38.566845Z"
    }
   },
   "outputs": [
    {
     "data": {
      "text/plain": [
       "(53351, 6)"
      ]
     },
     "execution_count": 3,
     "metadata": {},
     "output_type": "execute_result"
    }
   ],
   "source": [
    "#Count the articls we have\n",
    "df.shape"
   ]
  },
  {
   "cell_type": "code",
   "execution_count": 4,
   "metadata": {
    "ExecuteTime": {
     "end_time": "2020-06-14T14:46:38.601847Z",
     "start_time": "2020-06-14T14:46:38.572836Z"
    }
   },
   "outputs": [],
   "source": [
    "# remove articles that do no have an Abstract since that is what we are using for NER\n",
    "df = df[df['Abstract'].notna()]\n",
    "# df.shape"
   ]
  },
  {
   "cell_type": "code",
   "execution_count": 5,
   "metadata": {
    "ExecuteTime": {
     "end_time": "2020-06-14T14:46:38.629819Z",
     "start_time": "2020-06-14T14:46:38.603820Z"
    }
   },
   "outputs": [
    {
     "data": {
      "text/html": [
       "<div>\n",
       "<style scoped>\n",
       "    .dataframe tbody tr th:only-of-type {\n",
       "        vertical-align: middle;\n",
       "    }\n",
       "\n",
       "    .dataframe tbody tr th {\n",
       "        vertical-align: top;\n",
       "    }\n",
       "\n",
       "    .dataframe thead th {\n",
       "        text-align: right;\n",
       "    }\n",
       "</style>\n",
       "<table border=\"1\" class=\"dataframe\">\n",
       "  <thead>\n",
       "    <tr style=\"text-align: right;\">\n",
       "      <th></th>\n",
       "      <th>Author</th>\n",
       "      <th>Title</th>\n",
       "      <th>Abstract</th>\n",
       "      <th>Year</th>\n",
       "      <th>Journal/Publisher</th>\n",
       "      <th>Name of Database</th>\n",
       "    </tr>\n",
       "  </thead>\n",
       "  <tbody>\n",
       "    <tr>\n",
       "      <th>0</th>\n",
       "      <td>Zurayk, R</td>\n",
       "      <td>Pandemic and food security: a view from the Gl...</td>\n",
       "      <td>This paper offers a view of COVID-19's specifi...</td>\n",
       "      <td>2020</td>\n",
       "      <td>Journal of Agriculture, Food Systems and Commu...</td>\n",
       "      <td>CAB Abstracts</td>\n",
       "    </tr>\n",
       "    <tr>\n",
       "      <th>1</th>\n",
       "      <td>Zou, YZ, YiShan; Cao, Jun</td>\n",
       "      <td>Suggestions for standardizing the process of m...</td>\n",
       "      <td>At the end of 2019, the epidemic of coronaviru...</td>\n",
       "      <td>2020</td>\n",
       "      <td>Chinese Journal of Parasitology and Parasitic ...</td>\n",
       "      <td>CAB Abstracts</td>\n",
       "    </tr>\n",
       "    <tr>\n",
       "      <th>2</th>\n",
       "      <td>Zou, XL, Xiaolei; Zhou, Renxue; Yi, Jiahui; Xu...</td>\n",
       "      <td>Composition containing sodium chloride and suc...</td>\n",
       "      <td>The present invention relates to a composition...</td>\n",
       "      <td>2020</td>\n",
       "      <td>NaN</td>\n",
       "      <td>CAS</td>\n",
       "    </tr>\n",
       "    <tr>\n",
       "      <th>3</th>\n",
       "      <td>Zhu, TX, A.; Bai, X.; He, Y.; Zhang, H.</td>\n",
       "      <td>[Effect of convalescent plasma and immunoglobu...</td>\n",
       "      <td>OBJECTIVE: To systematically review evidence f...</td>\n",
       "      <td>2020</td>\n",
       "      <td>Zhonghua wei zhong bing ji jiu yi xue</td>\n",
       "      <td>PubMed</td>\n",
       "    </tr>\n",
       "    <tr>\n",
       "      <th>4</th>\n",
       "      <td>Zhu, JZ, Zhimei; Li, Hongyuan; Pan, Ji; Pang, ...</td>\n",
       "      <td>CT imaging features of 4121 patients with COVI...</td>\n",
       "      <td>ObjectiveWe systematically reviewed the comput...</td>\n",
       "      <td>2020</td>\n",
       "      <td>Journal of Medical Virology</td>\n",
       "      <td>Agricultural &amp; Environmental Science Collectio...</td>\n",
       "    </tr>\n",
       "  </tbody>\n",
       "</table>\n",
       "</div>"
      ],
      "text/plain": [
       "                                              Author  \\\n",
       "0                                          Zurayk, R   \n",
       "1                          Zou, YZ, YiShan; Cao, Jun   \n",
       "2  Zou, XL, Xiaolei; Zhou, Renxue; Yi, Jiahui; Xu...   \n",
       "3            Zhu, TX, A.; Bai, X.; He, Y.; Zhang, H.   \n",
       "4  Zhu, JZ, Zhimei; Li, Hongyuan; Pan, Ji; Pang, ...   \n",
       "\n",
       "                                               Title  \\\n",
       "0  Pandemic and food security: a view from the Gl...   \n",
       "1  Suggestions for standardizing the process of m...   \n",
       "2  Composition containing sodium chloride and suc...   \n",
       "3  [Effect of convalescent plasma and immunoglobu...   \n",
       "4  CT imaging features of 4121 patients with COVI...   \n",
       "\n",
       "                                            Abstract  Year  \\\n",
       "0  This paper offers a view of COVID-19's specifi...  2020   \n",
       "1  At the end of 2019, the epidemic of coronaviru...  2020   \n",
       "2  The present invention relates to a composition...  2020   \n",
       "3  OBJECTIVE: To systematically review evidence f...  2020   \n",
       "4  ObjectiveWe systematically reviewed the comput...  2020   \n",
       "\n",
       "                                   Journal/Publisher  \\\n",
       "0  Journal of Agriculture, Food Systems and Commu...   \n",
       "1  Chinese Journal of Parasitology and Parasitic ...   \n",
       "2                                                NaN   \n",
       "3              Zhonghua wei zhong bing ji jiu yi xue   \n",
       "4                        Journal of Medical Virology   \n",
       "\n",
       "                                    Name of Database  \n",
       "0                                      CAB Abstracts  \n",
       "1                                      CAB Abstracts  \n",
       "2                                                CAS  \n",
       "3                                             PubMed  \n",
       "4  Agricultural & Environmental Science Collectio...  "
      ]
     },
     "execution_count": 5,
     "metadata": {},
     "output_type": "execute_result"
    }
   ],
   "source": [
    "df.head()"
   ]
  },
  {
   "cell_type": "code",
   "execution_count": 6,
   "metadata": {
    "ExecuteTime": {
     "end_time": "2020-06-14T14:46:38.814863Z",
     "start_time": "2020-06-14T14:46:38.631826Z"
    }
   },
   "outputs": [],
   "source": [
    "df['uuid'] = df.apply(lambda x: uuid.uuid4(), axis=1)"
   ]
  },
  {
   "cell_type": "code",
   "execution_count": 7,
   "metadata": {
    "ExecuteTime": {
     "end_time": "2020-06-14T14:46:38.822840Z",
     "start_time": "2020-06-14T14:46:38.816840Z"
    }
   },
   "outputs": [
    {
     "name": "stdout",
     "output_type": "stream",
     "text": [
      "0        This paper offers a view of COVID-19's specifi...\n",
      "1        At the end of 2019, the epidemic of coronaviru...\n",
      "2        The present invention relates to a composition...\n",
      "3        OBJECTIVE: To systematically review evidence f...\n",
      "4        ObjectiveWe systematically reviewed the comput...\n",
      "                               ...                        \n",
      "47839    Diante da emergência de agentes com capacidade...\n",
      "47840    [Introdução]: Essa é a primeira edição deste d...\n",
      "47849    [Antecedentes]: Este documento resume as orien...\n",
      "47852    Incluye una colección de recursos sobre el nue...\n",
      "47854    As of 6am Geneva time this morning, China has ...\n",
      "Name: Abstract, Length: 29061, dtype: object\n"
     ]
    }
   ],
   "source": [
    "print(df.Abstract)"
   ]
  },
  {
   "cell_type": "markdown",
   "metadata": {},
   "source": [
    "## Visualize Bio-Medical entities "
   ]
  },
  {
   "cell_type": "code",
   "execution_count": 8,
   "metadata": {
    "ExecuteTime": {
     "end_time": "2020-06-14T14:46:38.840840Z",
     "start_time": "2020-06-14T14:46:38.823831Z"
    },
    "code_folding": [
     0
    ]
   },
   "outputs": [],
   "source": [
    "# This function will allow us to randomly color the bio-medical entities that teh spacy NER model finds.\n",
    "# THis is mainly for display purposes\n",
    "import random \n",
    "\n",
    "def get_entity_options(random_colors=False):\n",
    "    \"\"\"\n",
    "    generating color options for visualizing the named entities\n",
    "    \"\"\"\n",
    "    def color_generator(number_of_colors):\n",
    "        color = [\"#\"+''.join([random.choice('0123456789ABCDEF') for j in range(6)])\n",
    "                 for i in range(number_of_colors)]\n",
    "        return color\n",
    "\n",
    "    entities = [\"GGP\", \"SO\", \"TAXON\", \"CHEBI\", \"GO\", \"CL\", \n",
    "                \"DNA\", \"CELL_TYPE\", \"CELL_LINE\", \"RNA\", \"PROTEIN\",\n",
    "                \"DISEASE\", \"CHEMICAL\",\n",
    "                \"CANCER\", \"ORGAN\", \"TISSUE\", \"ORGANISM\", \"CELL\", \n",
    "                \"AMINO_ACID\", \"GENE_OR_GENE_PRODUCT\", \"SIMPLE_CHEMICAL\", \n",
    "                \"ANATOMICAL_SYSTEM\", \"IMMATERIAL_ANATOMICAL_ENTITY\", \"MULTI-TISSUE_STRUCTURE\",\n",
    "                \"DEVELOPING_ANATOMICAL_STRUCTURE\", \"ORGANISM_SUBDIVISION\", \"CELLULAR_COMPONENT\"]\n",
    "    \n",
    "    colors = {\"ENT\":\"#82E0AA\"}\n",
    "    \n",
    "    if random_colors:\n",
    "        color = color_generator(len(entities))\n",
    "        for i in range(len(entities)):\n",
    "            colors[entities[i]] = color[i]\n",
    "    else:\n",
    "        entities_cat_1 = {\"GGP\":\"#F9E79F\", \"SO\":\"#F7DC6F\", \"TAXON\":\"#F4D03F\", \"CHEBI\":\"#FAD7A0\", \"GO\":\"#F8C471\", \"CL\":\"#F5B041\"}\n",
    "        entities_cat_2 = {\"DNA\":\"#82E0AA\", \"CELL_TYPE\":\"#AED6F1\", \"CELL_LINE\":\"#E8DAEF\", \"RNA\":\"#82E0AA\", \"PROTEIN\":\"#82E0AA\"}\n",
    "        entities_cat_3 = {\"DISEASE\":\"#D7BDE2\", \"CHEMICAL\":\"#D2B4DE\"}\n",
    "        entities_cat_4 = {\"CANCER\":\"#ABEBC6\", \"ORGAN\":\"#82E0AA\", \"TISSUE\":\"#A9DFBF\", \"ORGANISM\":\"#A2D9CE\", \"CELL\":\"#76D7C4\", \"AMINO_ACID\":\"#85C1E9\", \"GENE_OR_GENE_PRODUCT\":\"#AED6F1\", \"SIMPLE_CHEMICAL\":\"#76D7C4\", \"ANATOMICAL_SYSTEM\":\"#82E0AA\", \"IMMATERIAL_ANATOMICAL_ENTITY\":\"#A2D9CE\", \"MULTI-TISSUE_STRUCTURE\":\"#85C1E9\", \"DEVELOPING_ANATOMICAL_STRUCTURE\":\"#A9DFBF\", \"ORGANISM_SUBDIVISION\":\"#58D68D\", \"CELLULAR_COMPONENT\":\"#7FB3D5\"}\n",
    "\n",
    "        entities_cats = [entities_cat_1, entities_cat_2, entities_cat_3, entities_cat_4]\n",
    "        for item in entities_cats:\n",
    "            colors = {**colors, **item}\n",
    "    \n",
    "    options = {\"ents\": entities, \"colors\": colors}\n",
    "    \n",
    "    return options"
   ]
  },
  {
   "cell_type": "code",
   "execution_count": 9,
   "metadata": {
    "ExecuteTime": {
     "end_time": "2020-06-14T14:46:38.857826Z",
     "start_time": "2020-06-14T14:46:38.841836Z"
    },
    "code_folding": []
   },
   "outputs": [],
   "source": [
    "# Text block for NER testing\n",
    "text_test = str(\"The ongoing Coronavirus Disease 2019 (COVID-19) pandemic caused by severe acute respiratory syndrome coronavirus 2 (SARS-CoV-2) signals an urgent need for an expansion in treatment options In this study, we investigated the anti-SARS-CoV-2 activities of 22 antiviral agents with known broad-spectrum antiviral activities against coronaviruses and/or other viruses They were first evaluated in our primary screening in VeroE6 cells and then the most potent anti-SARS-CoV-2 antiviral agents were further evaluated using viral antigen expression, viral load reduction, and plaque reduction assays In addition to remdesivir, lopinavir, and chloroquine, our primary screening additionally identified types I and II recombinant interferons, 25-hydroxycholesterol, and AM580 as the most potent anti-SARS-CoV-2 agents among the 22 antiviral agents Betaferon (interferon-&amp;beta;1b) exhibited the most potent anti-SARS-CoV-2 activity in viral antigen expression, viral load reduction, and plaque reduction assays among the recombinant interferons The lipogenesis modulators 25-hydroxycholesterol and AM580 exhibited EC50 at low micromolar levels and selectivity indices of &amp;gt;10 0 Combinational use of these host-based antiviral agents with virus-based antivirals to target different processes of the SARS-CoV-2 replication cycle should be evaluated in animal models and/or clinical trials\")"
   ]
  },
  {
   "cell_type": "code",
   "execution_count": 10,
   "metadata": {
    "ExecuteTime": {
     "end_time": "2020-06-14T14:46:46.055819Z",
     "start_time": "2020-06-14T14:46:38.858830Z"
    }
   },
   "outputs": [
    {
     "data": {
      "text/html": [
       "<span class=\"tex2jax_ignore\"><div class=\"entities\" style=\"line-height: 2.5; direction: ltr\">The ongoing \n",
       "<mark class=\"entity\" style=\"background: #65B8A3; padding: 0.45em 0.6em; margin: 0 0.25em; line-height: 1; border-radius: 0.35em;\">\n",
       "    Coronavirus Disease 2019\n",
       "    <span style=\"font-size: 0.8em; font-weight: bold; line-height: 1; border-radius: 0.35em; text-transform: uppercase; vertical-align: middle; margin-left: 0.5rem\">ORGANISM</span>\n",
       "</mark>\n",
       " (\n",
       "<mark class=\"entity\" style=\"background: #6E00B6; padding: 0.45em 0.6em; margin: 0 0.25em; line-height: 1; border-radius: 0.35em;\">\n",
       "    COVID-19\n",
       "    <span style=\"font-size: 0.8em; font-weight: bold; line-height: 1; border-radius: 0.35em; text-transform: uppercase; vertical-align: middle; margin-left: 0.5rem\">GENE_OR_GENE_PRODUCT</span>\n",
       "</mark>\n",
       ") pandemic caused by severe acute respiratory syndrome coronavirus 2 (\n",
       "<mark class=\"entity\" style=\"background: #1C695F; padding: 0.45em 0.6em; margin: 0 0.25em; line-height: 1; border-radius: 0.35em;\">\n",
       "    SARS-CoV-2\n",
       "    <span style=\"font-size: 0.8em; font-weight: bold; line-height: 1; border-radius: 0.35em; text-transform: uppercase; vertical-align: middle; margin-left: 0.5rem\">SIMPLE_CHEMICAL</span>\n",
       "</mark>\n",
       ") signals an urgent need for an expansion in treatment options In this study, we investigated the \n",
       "<mark class=\"entity\" style=\"background: #6E00B6; padding: 0.45em 0.6em; margin: 0 0.25em; line-height: 1; border-radius: 0.35em;\">\n",
       "    anti-SARS-CoV-2\n",
       "    <span style=\"font-size: 0.8em; font-weight: bold; line-height: 1; border-radius: 0.35em; text-transform: uppercase; vertical-align: middle; margin-left: 0.5rem\">GENE_OR_GENE_PRODUCT</span>\n",
       "</mark>\n",
       " activities of 22 antiviral agents with known broad-spectrum antiviral activities against \n",
       "<mark class=\"entity\" style=\"background: #65B8A3; padding: 0.45em 0.6em; margin: 0 0.25em; line-height: 1; border-radius: 0.35em;\">\n",
       "    coronaviruses\n",
       "    <span style=\"font-size: 0.8em; font-weight: bold; line-height: 1; border-radius: 0.35em; text-transform: uppercase; vertical-align: middle; margin-left: 0.5rem\">ORGANISM</span>\n",
       "</mark>\n",
       " and/or other viruses They were first evaluated in our primary screening in \n",
       "<mark class=\"entity\" style=\"background: #7B909D; padding: 0.45em 0.6em; margin: 0 0.25em; line-height: 1; border-radius: 0.35em;\">\n",
       "    VeroE6 cells\n",
       "    <span style=\"font-size: 0.8em; font-weight: bold; line-height: 1; border-radius: 0.35em; text-transform: uppercase; vertical-align: middle; margin-left: 0.5rem\">CELL</span>\n",
       "</mark>\n",
       " and then the most potent \n",
       "<mark class=\"entity\" style=\"background: #6E00B6; padding: 0.45em 0.6em; margin: 0 0.25em; line-height: 1; border-radius: 0.35em;\">\n",
       "    anti-SARS-CoV-2\n",
       "    <span style=\"font-size: 0.8em; font-weight: bold; line-height: 1; border-radius: 0.35em; text-transform: uppercase; vertical-align: middle; margin-left: 0.5rem\">GENE_OR_GENE_PRODUCT</span>\n",
       "</mark>\n",
       " antiviral agents were further evaluated using viral antigen expression, viral load reduction, and plaque reduction assays In addition to remdesivir, \n",
       "<mark class=\"entity\" style=\"background: #1C695F; padding: 0.45em 0.6em; margin: 0 0.25em; line-height: 1; border-radius: 0.35em;\">\n",
       "    lopinavir\n",
       "    <span style=\"font-size: 0.8em; font-weight: bold; line-height: 1; border-radius: 0.35em; text-transform: uppercase; vertical-align: middle; margin-left: 0.5rem\">SIMPLE_CHEMICAL</span>\n",
       "</mark>\n",
       ", and \n",
       "<mark class=\"entity\" style=\"background: #1C695F; padding: 0.45em 0.6em; margin: 0 0.25em; line-height: 1; border-radius: 0.35em;\">\n",
       "    chloroquine\n",
       "    <span style=\"font-size: 0.8em; font-weight: bold; line-height: 1; border-radius: 0.35em; text-transform: uppercase; vertical-align: middle; margin-left: 0.5rem\">SIMPLE_CHEMICAL</span>\n",
       "</mark>\n",
       ", our primary screening additionally identified types I and II recombinant interferons, \n",
       "<mark class=\"entity\" style=\"background: #1C695F; padding: 0.45em 0.6em; margin: 0 0.25em; line-height: 1; border-radius: 0.35em;\">\n",
       "    25-hydroxycholesterol\n",
       "    <span style=\"font-size: 0.8em; font-weight: bold; line-height: 1; border-radius: 0.35em; text-transform: uppercase; vertical-align: middle; margin-left: 0.5rem\">SIMPLE_CHEMICAL</span>\n",
       "</mark>\n",
       ", and \n",
       "<mark class=\"entity\" style=\"background: #6E00B6; padding: 0.45em 0.6em; margin: 0 0.25em; line-height: 1; border-radius: 0.35em;\">\n",
       "    AM580\n",
       "    <span style=\"font-size: 0.8em; font-weight: bold; line-height: 1; border-radius: 0.35em; text-transform: uppercase; vertical-align: middle; margin-left: 0.5rem\">GENE_OR_GENE_PRODUCT</span>\n",
       "</mark>\n",
       " as the most potent \n",
       "<mark class=\"entity\" style=\"background: #6E00B6; padding: 0.45em 0.6em; margin: 0 0.25em; line-height: 1; border-radius: 0.35em;\">\n",
       "    anti-SARS-CoV-2\n",
       "    <span style=\"font-size: 0.8em; font-weight: bold; line-height: 1; border-radius: 0.35em; text-transform: uppercase; vertical-align: middle; margin-left: 0.5rem\">GENE_OR_GENE_PRODUCT</span>\n",
       "</mark>\n",
       " agents among the 22 antiviral agents \n",
       "<mark class=\"entity\" style=\"background: #6E00B6; padding: 0.45em 0.6em; margin: 0 0.25em; line-height: 1; border-radius: 0.35em;\">\n",
       "    Betaferon\n",
       "    <span style=\"font-size: 0.8em; font-weight: bold; line-height: 1; border-radius: 0.35em; text-transform: uppercase; vertical-align: middle; margin-left: 0.5rem\">GENE_OR_GENE_PRODUCT</span>\n",
       "</mark>\n",
       " (interferon-&amp;amp;beta;1b) exhibited the most potent \n",
       "<mark class=\"entity\" style=\"background: #6E00B6; padding: 0.45em 0.6em; margin: 0 0.25em; line-height: 1; border-radius: 0.35em;\">\n",
       "    anti-SARS-CoV-2\n",
       "    <span style=\"font-size: 0.8em; font-weight: bold; line-height: 1; border-radius: 0.35em; text-transform: uppercase; vertical-align: middle; margin-left: 0.5rem\">GENE_OR_GENE_PRODUCT</span>\n",
       "</mark>\n",
       " activity in viral antigen expression, viral load reduction, and plaque reduction assays among the recombinant interferons The lipogenesis modulators \n",
       "<mark class=\"entity\" style=\"background: #1C695F; padding: 0.45em 0.6em; margin: 0 0.25em; line-height: 1; border-radius: 0.35em;\">\n",
       "    25-hydroxycholesterol\n",
       "    <span style=\"font-size: 0.8em; font-weight: bold; line-height: 1; border-radius: 0.35em; text-transform: uppercase; vertical-align: middle; margin-left: 0.5rem\">SIMPLE_CHEMICAL</span>\n",
       "</mark>\n",
       " and \n",
       "<mark class=\"entity\" style=\"background: #6E00B6; padding: 0.45em 0.6em; margin: 0 0.25em; line-height: 1; border-radius: 0.35em;\">\n",
       "    AM580\n",
       "    <span style=\"font-size: 0.8em; font-weight: bold; line-height: 1; border-radius: 0.35em; text-transform: uppercase; vertical-align: middle; margin-left: 0.5rem\">GENE_OR_GENE_PRODUCT</span>\n",
       "</mark>\n",
       " exhibited EC50 at low \n",
       "<mark class=\"entity\" style=\"background: #1C695F; padding: 0.45em 0.6em; margin: 0 0.25em; line-height: 1; border-radius: 0.35em;\">\n",
       "    micromolar\n",
       "    <span style=\"font-size: 0.8em; font-weight: bold; line-height: 1; border-radius: 0.35em; text-transform: uppercase; vertical-align: middle; margin-left: 0.5rem\">SIMPLE_CHEMICAL</span>\n",
       "</mark>\n",
       " levels and selectivity indices of &amp;amp;gt;10 0 Combinational use of these host-based antiviral agents with virus-based antivirals to target different processes of the \n",
       "<mark class=\"entity\" style=\"background: #1C695F; padding: 0.45em 0.6em; margin: 0 0.25em; line-height: 1; border-radius: 0.35em;\">\n",
       "    SARS-CoV-2\n",
       "    <span style=\"font-size: 0.8em; font-weight: bold; line-height: 1; border-radius: 0.35em; text-transform: uppercase; vertical-align: middle; margin-left: 0.5rem\">SIMPLE_CHEMICAL</span>\n",
       "</mark>\n",
       " replication cycle should be evaluated in animal models and/or clinical trials</div></span>"
      ],
      "text/plain": [
       "<IPython.core.display.HTML object>"
      ]
     },
     "metadata": {},
     "output_type": "display_data"
    }
   ],
   "source": [
    "from spacy import displacy\n",
    "nlp = spacy.load(\"en_ner_bionlp13cg_md\")\n",
    "# nlp = spacy.load(\"en_ner_bc5cdr_md\")\n",
    "# nlp = spacy.load(\"en_ner_jnlpba_md\")\n",
    "# nlp = spacy.load(\"en_ner_craft_md\")\n",
    "doc = nlp(text_test)\n",
    "displacy.render(doc, style=\"ent\", options=get_entity_options(random_colors=True))"
   ]
  },
  {
   "cell_type": "markdown",
   "metadata": {},
   "source": [
    "## Lets apply the NER model to the Abstract's and output that to a dataframe that is ready for import into Neo4j as node's"
   ]
  },
  {
   "cell_type": "code",
   "execution_count": 11,
   "metadata": {
    "ExecuteTime": {
     "end_time": "2020-06-14T15:04:08.630659Z",
     "start_time": "2020-06-14T14:46:46.056836Z"
    }
   },
   "outputs": [
    {
     "name": "stderr",
     "output_type": "stream",
     "text": [
      "100%|\u001b[32m████████████████████████████████████████████████████████████████████████████\u001b[39m| 29061/29061 [17:14<00:00, 28.09it/s]\u001b[0m\n"
     ]
    }
   ],
   "source": [
    "getattr(tqdm, '_instances', {}).clear()  # ⬅ clear the progress\n",
    "spacy.prefer_gpu()\n",
    "nlp = spacy.load(\"en_ner_bionlp13cg_md\")\n",
    "entities=[]\n",
    "uuid = str(df.uuid)\n",
    "for i in tqdm(df['Abstract'].tolist(),bar_format=\"{l_bar}%s{bar}%s{r_bar}\" % (Fore.GREEN, Fore.RESET)):\n",
    "    doc = nlp(i)\n",
    "    for entity in doc.ents:\n",
    "        entities.append((i, entity.text, entity.label_, uuid))"
   ]
  },
  {
   "cell_type": "code",
   "execution_count": 12,
   "metadata": {
    "ExecuteTime": {
     "end_time": "2020-06-14T15:04:08.778699Z",
     "start_time": "2020-06-14T15:04:08.631661Z"
    }
   },
   "outputs": [
    {
     "data": {
      "application/javascript": [
       "\n",
       "        if (window._pyforest_update_imports_cell) { window._pyforest_update_imports_cell('import pandas as pd'); }\n",
       "    "
      ],
      "text/plain": [
       "<IPython.core.display.Javascript object>"
      ]
     },
     "metadata": {},
     "output_type": "display_data"
    }
   ],
   "source": [
    "df_ner = pd.DataFrame.from_records(entities, columns =['Abstract','ent_name', 'ent_type', 'uuid'])"
   ]
  },
  {
   "cell_type": "code",
   "execution_count": 13,
   "metadata": {
    "ExecuteTime": {
     "end_time": "2020-06-14T15:04:08.789662Z",
     "start_time": "2020-06-14T15:04:08.780658Z"
    }
   },
   "outputs": [
    {
     "data": {
      "text/html": [
       "<div>\n",
       "<style scoped>\n",
       "    .dataframe tbody tr th:only-of-type {\n",
       "        vertical-align: middle;\n",
       "    }\n",
       "\n",
       "    .dataframe tbody tr th {\n",
       "        vertical-align: top;\n",
       "    }\n",
       "\n",
       "    .dataframe thead th {\n",
       "        text-align: right;\n",
       "    }\n",
       "</style>\n",
       "<table border=\"1\" class=\"dataframe\">\n",
       "  <thead>\n",
       "    <tr style=\"text-align: right;\">\n",
       "      <th></th>\n",
       "      <th>Abstract</th>\n",
       "      <th>ent_name</th>\n",
       "      <th>ent_type</th>\n",
       "      <th>uuid</th>\n",
       "    </tr>\n",
       "  </thead>\n",
       "  <tbody>\n",
       "    <tr>\n",
       "      <th>0</th>\n",
       "      <td>This paper offers a view of COVID-19's specifi...</td>\n",
       "      <td>COVID-19's</td>\n",
       "      <td>GENE_OR_GENE_PRODUCT</td>\n",
       "      <td>0        6798d439-f19f-41fa-9406-16a11186fda7\\...</td>\n",
       "    </tr>\n",
       "    <tr>\n",
       "      <th>1</th>\n",
       "      <td>This paper offers a view of COVID-19's specifi...</td>\n",
       "      <td>COVID-19</td>\n",
       "      <td>GENE_OR_GENE_PRODUCT</td>\n",
       "      <td>0        6798d439-f19f-41fa-9406-16a11186fda7\\...</td>\n",
       "    </tr>\n",
       "    <tr>\n",
       "      <th>2</th>\n",
       "      <td>At the end of 2019, the epidemic of coronaviru...</td>\n",
       "      <td>coronavirus disease 2019</td>\n",
       "      <td>ORGANISM</td>\n",
       "      <td>0        6798d439-f19f-41fa-9406-16a11186fda7\\...</td>\n",
       "    </tr>\n",
       "    <tr>\n",
       "      <th>3</th>\n",
       "      <td>At the end of 2019, the epidemic of coronaviru...</td>\n",
       "      <td>COVID-19</td>\n",
       "      <td>GENE_OR_GENE_PRODUCT</td>\n",
       "      <td>0        6798d439-f19f-41fa-9406-16a11186fda7\\...</td>\n",
       "    </tr>\n",
       "    <tr>\n",
       "      <th>4</th>\n",
       "      <td>At the end of 2019, the epidemic of coronaviru...</td>\n",
       "      <td>patients</td>\n",
       "      <td>ORGANISM</td>\n",
       "      <td>0        6798d439-f19f-41fa-9406-16a11186fda7\\...</td>\n",
       "    </tr>\n",
       "  </tbody>\n",
       "</table>\n",
       "</div>"
      ],
      "text/plain": [
       "                                            Abstract  \\\n",
       "0  This paper offers a view of COVID-19's specifi...   \n",
       "1  This paper offers a view of COVID-19's specifi...   \n",
       "2  At the end of 2019, the epidemic of coronaviru...   \n",
       "3  At the end of 2019, the epidemic of coronaviru...   \n",
       "4  At the end of 2019, the epidemic of coronaviru...   \n",
       "\n",
       "                   ent_name              ent_type  \\\n",
       "0                COVID-19's  GENE_OR_GENE_PRODUCT   \n",
       "1                  COVID-19  GENE_OR_GENE_PRODUCT   \n",
       "2  coronavirus disease 2019              ORGANISM   \n",
       "3                  COVID-19  GENE_OR_GENE_PRODUCT   \n",
       "4                  patients              ORGANISM   \n",
       "\n",
       "                                                uuid  \n",
       "0  0        6798d439-f19f-41fa-9406-16a11186fda7\\...  \n",
       "1  0        6798d439-f19f-41fa-9406-16a11186fda7\\...  \n",
       "2  0        6798d439-f19f-41fa-9406-16a11186fda7\\...  \n",
       "3  0        6798d439-f19f-41fa-9406-16a11186fda7\\...  \n",
       "4  0        6798d439-f19f-41fa-9406-16a11186fda7\\...  "
      ]
     },
     "execution_count": 13,
     "metadata": {},
     "output_type": "execute_result"
    }
   ],
   "source": [
    "df_ner.head()"
   ]
  },
  {
   "cell_type": "markdown",
   "metadata": {},
   "source": [
    "### Let's remove duplicate entities and their types from each abstract since we care abou the realtionships between articles"
   ]
  },
  {
   "cell_type": "code",
   "execution_count": 14,
   "metadata": {
    "ExecuteTime": {
     "end_time": "2020-06-14T15:04:10.130676Z",
     "start_time": "2020-06-14T15:04:08.791660Z"
    }
   },
   "outputs": [
    {
     "data": {
      "text/html": [
       "<div>\n",
       "<style scoped>\n",
       "    .dataframe tbody tr th:only-of-type {\n",
       "        vertical-align: middle;\n",
       "    }\n",
       "\n",
       "    .dataframe tbody tr th {\n",
       "        vertical-align: top;\n",
       "    }\n",
       "\n",
       "    .dataframe thead th {\n",
       "        text-align: right;\n",
       "    }\n",
       "</style>\n",
       "<table border=\"1\" class=\"dataframe\">\n",
       "  <thead>\n",
       "    <tr style=\"text-align: right;\">\n",
       "      <th></th>\n",
       "      <th>Abstract</th>\n",
       "      <th>ent_name</th>\n",
       "      <th>ent_type</th>\n",
       "      <th>uuid</th>\n",
       "    </tr>\n",
       "  </thead>\n",
       "  <tbody>\n",
       "    <tr>\n",
       "      <th>0</th>\n",
       "      <td>This paper offers a view of COVID-19's specifi...</td>\n",
       "      <td>COVID-19's</td>\n",
       "      <td>GENE_OR_GENE_PRODUCT</td>\n",
       "      <td>0        6798d439-f19f-41fa-9406-16a11186fda7\\...</td>\n",
       "    </tr>\n",
       "    <tr>\n",
       "      <th>1</th>\n",
       "      <td>This paper offers a view of COVID-19's specifi...</td>\n",
       "      <td>COVID-19</td>\n",
       "      <td>GENE_OR_GENE_PRODUCT</td>\n",
       "      <td>0        6798d439-f19f-41fa-9406-16a11186fda7\\...</td>\n",
       "    </tr>\n",
       "    <tr>\n",
       "      <th>2</th>\n",
       "      <td>At the end of 2019, the epidemic of coronaviru...</td>\n",
       "      <td>coronavirus disease 2019</td>\n",
       "      <td>ORGANISM</td>\n",
       "      <td>0        6798d439-f19f-41fa-9406-16a11186fda7\\...</td>\n",
       "    </tr>\n",
       "    <tr>\n",
       "      <th>3</th>\n",
       "      <td>At the end of 2019, the epidemic of coronaviru...</td>\n",
       "      <td>COVID-19</td>\n",
       "      <td>GENE_OR_GENE_PRODUCT</td>\n",
       "      <td>0        6798d439-f19f-41fa-9406-16a11186fda7\\...</td>\n",
       "    </tr>\n",
       "    <tr>\n",
       "      <th>4</th>\n",
       "      <td>At the end of 2019, the epidemic of coronaviru...</td>\n",
       "      <td>patients</td>\n",
       "      <td>ORGANISM</td>\n",
       "      <td>0        6798d439-f19f-41fa-9406-16a11186fda7\\...</td>\n",
       "    </tr>\n",
       "    <tr>\n",
       "      <th>...</th>\n",
       "      <td>...</td>\n",
       "      <td>...</td>\n",
       "      <td>...</td>\n",
       "      <td>...</td>\n",
       "    </tr>\n",
       "    <tr>\n",
       "      <th>326479</th>\n",
       "      <td>Incluye una colección de recursos sobre el nue...</td>\n",
       "      <td>información</td>\n",
       "      <td>ORGANISM_SUBSTANCE</td>\n",
       "      <td>0        6798d439-f19f-41fa-9406-16a11186fda7\\...</td>\n",
       "    </tr>\n",
       "    <tr>\n",
       "      <th>326480</th>\n",
       "      <td>Incluye una colección de recursos sobre el nue...</td>\n",
       "      <td>países</td>\n",
       "      <td>SIMPLE_CHEMICAL</td>\n",
       "      <td>0        6798d439-f19f-41fa-9406-16a11186fda7\\...</td>\n",
       "    </tr>\n",
       "    <tr>\n",
       "      <th>326481</th>\n",
       "      <td>Incluye una colección de recursos sobre el nue...</td>\n",
       "      <td>vídeos</td>\n",
       "      <td>CELLULAR_COMPONENT</td>\n",
       "      <td>0        6798d439-f19f-41fa-9406-16a11186fda7\\...</td>\n",
       "    </tr>\n",
       "    <tr>\n",
       "      <th>326482</th>\n",
       "      <td>As of 6am Geneva time this morning, China has ...</td>\n",
       "      <td>Geneva</td>\n",
       "      <td>ORGANISM</td>\n",
       "      <td>0        6798d439-f19f-41fa-9406-16a11186fda7\\...</td>\n",
       "    </tr>\n",
       "    <tr>\n",
       "      <th>326483</th>\n",
       "      <td>As of 6am Geneva time this morning, China has ...</td>\n",
       "      <td>Hubei province</td>\n",
       "      <td>ORGANISM</td>\n",
       "      <td>0        6798d439-f19f-41fa-9406-16a11186fda7\\...</td>\n",
       "    </tr>\n",
       "  </tbody>\n",
       "</table>\n",
       "<p>232283 rows × 4 columns</p>\n",
       "</div>"
      ],
      "text/plain": [
       "                                                 Abstract  \\\n",
       "0       This paper offers a view of COVID-19's specifi...   \n",
       "1       This paper offers a view of COVID-19's specifi...   \n",
       "2       At the end of 2019, the epidemic of coronaviru...   \n",
       "3       At the end of 2019, the epidemic of coronaviru...   \n",
       "4       At the end of 2019, the epidemic of coronaviru...   \n",
       "...                                                   ...   \n",
       "326479  Incluye una colección de recursos sobre el nue...   \n",
       "326480  Incluye una colección de recursos sobre el nue...   \n",
       "326481  Incluye una colección de recursos sobre el nue...   \n",
       "326482  As of 6am Geneva time this morning, China has ...   \n",
       "326483  As of 6am Geneva time this morning, China has ...   \n",
       "\n",
       "                        ent_name              ent_type  \\\n",
       "0                     COVID-19's  GENE_OR_GENE_PRODUCT   \n",
       "1                       COVID-19  GENE_OR_GENE_PRODUCT   \n",
       "2       coronavirus disease 2019              ORGANISM   \n",
       "3                       COVID-19  GENE_OR_GENE_PRODUCT   \n",
       "4                       patients              ORGANISM   \n",
       "...                          ...                   ...   \n",
       "326479               información    ORGANISM_SUBSTANCE   \n",
       "326480                    países       SIMPLE_CHEMICAL   \n",
       "326481                    vídeos    CELLULAR_COMPONENT   \n",
       "326482                    Geneva              ORGANISM   \n",
       "326483            Hubei province              ORGANISM   \n",
       "\n",
       "                                                     uuid  \n",
       "0       0        6798d439-f19f-41fa-9406-16a11186fda7\\...  \n",
       "1       0        6798d439-f19f-41fa-9406-16a11186fda7\\...  \n",
       "2       0        6798d439-f19f-41fa-9406-16a11186fda7\\...  \n",
       "3       0        6798d439-f19f-41fa-9406-16a11186fda7\\...  \n",
       "4       0        6798d439-f19f-41fa-9406-16a11186fda7\\...  \n",
       "...                                                   ...  \n",
       "326479  0        6798d439-f19f-41fa-9406-16a11186fda7\\...  \n",
       "326480  0        6798d439-f19f-41fa-9406-16a11186fda7\\...  \n",
       "326481  0        6798d439-f19f-41fa-9406-16a11186fda7\\...  \n",
       "326482  0        6798d439-f19f-41fa-9406-16a11186fda7\\...  \n",
       "326483  0        6798d439-f19f-41fa-9406-16a11186fda7\\...  \n",
       "\n",
       "[232283 rows x 4 columns]"
      ]
     },
     "execution_count": 14,
     "metadata": {},
     "output_type": "execute_result"
    }
   ],
   "source": [
    "#remove duplicates\n",
    "df_ner.drop_duplicates(subset=['Abstract', 'ent_name', 'ent_type'], keep='first')"
   ]
  },
  {
   "cell_type": "markdown",
   "metadata": {},
   "source": [
    "## Output the files so I can clean and join them later"
   ]
  },
  {
   "cell_type": "code",
   "execution_count": 15,
   "metadata": {
    "ExecuteTime": {
     "end_time": "2020-06-14T15:04:30.471534Z",
     "start_time": "2020-06-14T15:04:10.131676Z"
    }
   },
   "outputs": [],
   "source": [
    "df_ner.to_csv(\"ner_out_uuid.csv\", sep=',',index=False)"
   ]
  },
  {
   "cell_type": "code",
   "execution_count": 16,
   "metadata": {
    "ExecuteTime": {
     "end_time": "2020-06-14T15:04:31.648497Z",
     "start_time": "2020-06-14T15:04:30.472512Z"
    }
   },
   "outputs": [],
   "source": [
    "df.to_csv(\"abstract_out_uuid.csv\", sep=',',index=False)"
   ]
  },
  {
   "cell_type": "markdown",
   "metadata": {},
   "source": [
    "## ToDo"
   ]
  },
  {
   "cell_type": "markdown",
   "metadata": {},
   "source": [
    "- Add UUID to entity output for matching later\n",
    "- Filter entities so if it appears more than once it only shows up in output\n",
    "- For filtered entities, keep a count of the number of times it was mentioned\n",
    "- Extract the authors individually \n",
    "- in some Journals, the author named first is primary but in other journals it is the last author\n",
    "- See if we can find if that author is cited in the article"
   ]
  },
  {
   "cell_type": "code",
   "execution_count": null,
   "metadata": {},
   "outputs": [],
   "source": []
  },
  {
   "cell_type": "code",
   "execution_count": null,
   "metadata": {},
   "outputs": [],
   "source": []
  }
 ],
 "metadata": {
  "kernelspec": {
   "display_name": "Python 3",
   "language": "python",
   "name": "python3"
  },
  "language_info": {
   "codemirror_mode": {
    "name": "ipython",
    "version": 3
   },
   "file_extension": ".py",
   "mimetype": "text/x-python",
   "name": "python",
   "nbconvert_exporter": "python",
   "pygments_lexer": "ipython3",
   "version": "3.7.7"
  },
  "toc": {
   "base_numbering": 1,
   "nav_menu": {},
   "number_sections": true,
   "sideBar": true,
   "skip_h1_title": false,
   "title_cell": "Table of Contents",
   "title_sidebar": "Contents",
   "toc_cell": false,
   "toc_position": {},
   "toc_section_display": true,
   "toc_window_display": true
  }
 },
 "nbformat": 4,
 "nbformat_minor": 2
}

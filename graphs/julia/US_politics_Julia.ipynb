{
 "cells": [
  {
   "cell_type": "code",
   "execution_count": 1,
   "id": "adada613-ac68-42e7-ad53-ba64af261d0a",
   "metadata": {},
   "outputs": [
    {
     "ename": "LoadError",
     "evalue": "ArgumentError: provide a valid sink argument, like `using DataFrames; CSV.read(source, DataFrame)`",
     "output_type": "error",
     "traceback": [
      "ArgumentError: provide a valid sink argument, like `using DataFrames; CSV.read(source, DataFrame)`",
      "",
      "Stacktrace:",
      " [1] read(source::String, sink::Nothing; copycols::Bool, kwargs::Base.Iterators.Pairs{Union{}, Union{}, Tuple{}, NamedTuple{(), Tuple{}}})",
      "   @ CSV C:\\Users\\Sean\\.julia\\packages\\CSV\\b8ebJ\\src\\CSV.jl:115",
      " [2] read(source::String, sink::Nothing) (repeats 2 times)",
      "   @ CSV C:\\Users\\Sean\\.julia\\packages\\CSV\\b8ebJ\\src\\CSV.jl:114",
      " [3] top-level scope",
      "   @ In[1]:4",
      " [4] eval",
      "   @ .\\boot.jl:360 [inlined]",
      " [5] include_string(mapexpr::typeof(REPL.softscope), mod::Module, code::String, filename::String)",
      "   @ Base .\\loading.jl:1116"
     ]
    }
   ],
   "source": [
    "using CSV, Graphs\n",
    "\n",
    "# Load the CSV file\n",
    "data = CSV.read(raw\"D:\\GitHub\\AI\\graphs\\politics\\data\\politics_prez_vp_only.csv\")"
   ]
  },
  {
   "cell_type": "code",
   "execution_count": null,
   "id": "c14a1cde-0c6e-44f2-b640-596ea6585854",
   "metadata": {},
   "outputs": [],
   "source": [
    "# Create an empty graph\n",
    "g = Graph()\n",
    "\n",
    "# Add nodes for presidents and vice presidents\n",
    "for i in 1:size(data,1)\n",
    "    add_vertex!(g, data[i, :name])\n",
    "    add_vertex!(g, data[i, :vice])\n",
    "end\n",
    "\n",
    "# Add edges between presidents and vice presidents\n",
    "for i in 1:size(data,1)\n",
    "    add_edge!(g, data[i, :name], data[i, :vice])\n",
    "end\n"
   ]
  },
  {
   "cell_type": "code",
   "execution_count": null,
   "id": "9700c420-df48-438a-a37e-51e549cd8d2f",
   "metadata": {},
   "outputs": [],
   "source": [
    "# Display the graph\n",
    "display(g)"
   ]
  },
  {
   "cell_type": "code",
   "execution_count": null,
   "id": "dd0918b1-88fc-42b1-bedf-410d19001ce2",
   "metadata": {},
   "outputs": [],
   "source": []
  },
  {
   "cell_type": "code",
   "execution_count": null,
   "id": "931c8081-345c-4cfb-a215-fa0a4b6d95af",
   "metadata": {},
   "outputs": [],
   "source": []
  },
  {
   "cell_type": "code",
   "execution_count": null,
   "id": "f2fd97ee-5515-404e-b716-034cfa91a610",
   "metadata": {},
   "outputs": [],
   "source": []
  }
 ],
 "metadata": {
  "kernelspec": {
   "display_name": "Julia 1.6.7",
   "language": "julia",
   "name": "julia-1.6"
  },
  "language_info": {
   "file_extension": ".jl",
   "mimetype": "application/julia",
   "name": "julia",
   "version": "1.6.7"
  }
 },
 "nbformat": 4,
 "nbformat_minor": 5
}

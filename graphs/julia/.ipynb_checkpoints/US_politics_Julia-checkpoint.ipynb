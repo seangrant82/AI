{
 "cells": [
  {
   "cell_type": "code",
   "execution_count": 4,
   "id": "adada613-ac68-42e7-ad53-ba64af261d0a",
   "metadata": {},
   "outputs": [
    {
     "data": {
      "text/html": [
       "<div><div style = \"float: left;\"><span>46×2 DataFrame</span></div><div style = \"float: right;\"><span style = \"font-style: italic;\">21 rows omitted</span></div><div style = \"clear: both;\"></div></div><div class = \"data-frame\" style = \"overflow-x: scroll;\"><table class = \"data-frame\" style = \"margin-bottom: 6px;\"><thead><tr class = \"header\"><th class = \"rowNumber\" style = \"font-weight: bold; text-align: right;\">Row</th><th style = \"text-align: left;\">name</th><th style = \"text-align: left;\">vice</th></tr><tr class = \"subheader headerLastRow\"><th class = \"rowNumber\" style = \"font-weight: bold; text-align: right;\"></th><th title = \"String31\" style = \"text-align: left;\">String31</th><th title = \"String31\" style = \"text-align: left;\">String31</th></tr></thead><tbody><tr><td class = \"rowNumber\" style = \"font-weight: bold; text-align: right;\">1</td><td style = \"text-align: left;\">George Washington</td><td style = \"text-align: left;\">John Adams</td></tr><tr><td class = \"rowNumber\" style = \"font-weight: bold; text-align: right;\">2</td><td style = \"text-align: left;\">John Adams</td><td style = \"text-align: left;\">Thomas Jefferson</td></tr><tr><td class = \"rowNumber\" style = \"font-weight: bold; text-align: right;\">3</td><td style = \"text-align: left;\">Thomas Jefferson</td><td style = \"text-align: left;\">Aaron Burr</td></tr><tr><td class = \"rowNumber\" style = \"font-weight: bold; text-align: right;\">4</td><td style = \"text-align: left;\">James Madison</td><td style = \"text-align: left;\">George Clinton</td></tr><tr><td class = \"rowNumber\" style = \"font-weight: bold; text-align: right;\">5</td><td style = \"text-align: left;\">James Monroe</td><td style = \"text-align: left;\">Daniel D. Tompkins</td></tr><tr><td class = \"rowNumber\" style = \"font-weight: bold; text-align: right;\">6</td><td style = \"text-align: left;\">John Quincy Adams</td><td style = \"text-align: left;\">John C. Calhoun</td></tr><tr><td class = \"rowNumber\" style = \"font-weight: bold; text-align: right;\">7</td><td style = \"text-align: left;\">Andrew Jackson</td><td style = \"text-align: left;\">John C. Calhoun</td></tr><tr><td class = \"rowNumber\" style = \"font-weight: bold; text-align: right;\">8</td><td style = \"text-align: left;\">Martin Van Buren</td><td style = \"text-align: left;\">Richard Mentor Johnson</td></tr><tr><td class = \"rowNumber\" style = \"font-weight: bold; text-align: right;\">9</td><td style = \"text-align: left;\">William Henry Harrison</td><td style = \"text-align: left;\">John Tyler</td></tr><tr><td class = \"rowNumber\" style = \"font-weight: bold; text-align: right;\">10</td><td style = \"text-align: left;\">John Tyler</td><td style = \"text-align: left;\">Office vacant</td></tr><tr><td class = \"rowNumber\" style = \"font-weight: bold; text-align: right;\">11</td><td style = \"text-align: left;\">James K. Polk</td><td style = \"text-align: left;\">George M. Dallas</td></tr><tr><td class = \"rowNumber\" style = \"font-weight: bold; text-align: right;\">12</td><td style = \"text-align: left;\">Zachary Taylor</td><td style = \"text-align: left;\">Millard Fillmore</td></tr><tr><td class = \"rowNumber\" style = \"font-weight: bold; text-align: right;\">13</td><td style = \"text-align: left;\">Millard Fillmore</td><td style = \"text-align: left;\">Office vacant</td></tr><tr><td style = \"text-align: right;\">&vellip;</td><td style = \"text-align: right;\">&vellip;</td><td style = \"text-align: right;\">&vellip;</td></tr><tr><td class = \"rowNumber\" style = \"font-weight: bold; text-align: right;\">35</td><td style = \"text-align: left;\">John F. Kennedy</td><td style = \"text-align: left;\">Lyndon B. Johnson</td></tr><tr><td class = \"rowNumber\" style = \"font-weight: bold; text-align: right;\">36</td><td style = \"text-align: left;\">Lyndon B. Johnson</td><td style = \"text-align: left;\">Office vacant</td></tr><tr><td class = \"rowNumber\" style = \"font-weight: bold; text-align: right;\">37</td><td style = \"text-align: left;\">Richard Nixon</td><td style = \"text-align: left;\">Spiro Agnew</td></tr><tr><td class = \"rowNumber\" style = \"font-weight: bold; text-align: right;\">38</td><td style = \"text-align: left;\">Gerald Ford</td><td style = \"text-align: left;\">Office vacant</td></tr><tr><td class = \"rowNumber\" style = \"font-weight: bold; text-align: right;\">39</td><td style = \"text-align: left;\">Jimmy Carter</td><td style = \"text-align: left;\">Walter Mondale</td></tr><tr><td class = \"rowNumber\" style = \"font-weight: bold; text-align: right;\">40</td><td style = \"text-align: left;\">Ronald Reagan</td><td style = \"text-align: left;\">George H. W. Bush</td></tr><tr><td class = \"rowNumber\" style = \"font-weight: bold; text-align: right;\">41</td><td style = \"text-align: left;\">George H. W. Bush</td><td style = \"text-align: left;\">Dan Quayle</td></tr><tr><td class = \"rowNumber\" style = \"font-weight: bold; text-align: right;\">42</td><td style = \"text-align: left;\">Bill Clinton</td><td style = \"text-align: left;\">Al Gore</td></tr><tr><td class = \"rowNumber\" style = \"font-weight: bold; text-align: right;\">43</td><td style = \"text-align: left;\">George W. Bush</td><td style = \"text-align: left;\">Dick Cheney</td></tr><tr><td class = \"rowNumber\" style = \"font-weight: bold; text-align: right;\">44</td><td style = \"text-align: left;\">Barack Obama</td><td style = \"text-align: left;\">Joe Biden</td></tr><tr><td class = \"rowNumber\" style = \"font-weight: bold; text-align: right;\">45</td><td style = \"text-align: left;\">Donald Trump</td><td style = \"text-align: left;\">Mike Pence</td></tr><tr><td class = \"rowNumber\" style = \"font-weight: bold; text-align: right;\">46</td><td style = \"text-align: left;\">Joe Biden</td><td style = \"text-align: left;\">Kamela Harris</td></tr></tbody></table></div>"
      ],
      "text/latex": [
       "\\begin{tabular}{r|cc}\n",
       "\t& name & vice\\\\\n",
       "\t\\hline\n",
       "\t& String31 & String31\\\\\n",
       "\t\\hline\n",
       "\t1 & George Washington & John Adams \\\\\n",
       "\t2 & John Adams & Thomas Jefferson \\\\\n",
       "\t3 & Thomas Jefferson & Aaron Burr \\\\\n",
       "\t4 & James Madison & George Clinton \\\\\n",
       "\t5 & James Monroe & Daniel D. Tompkins \\\\\n",
       "\t6 & John Quincy Adams & John C. Calhoun \\\\\n",
       "\t7 & Andrew Jackson & John C. Calhoun \\\\\n",
       "\t8 & Martin Van Buren & Richard Mentor Johnson \\\\\n",
       "\t9 & William Henry Harrison & John Tyler \\\\\n",
       "\t10 & John Tyler & Office vacant \\\\\n",
       "\t11 & James K. Polk & George M. Dallas \\\\\n",
       "\t12 & Zachary Taylor & Millard Fillmore \\\\\n",
       "\t13 & Millard Fillmore & Office vacant \\\\\n",
       "\t14 & Franklin Pierce & William R. King \\\\\n",
       "\t15 & James Buchanan & John C. Breckinridge \\\\\n",
       "\t16 & Abraham Lincoln & Hannibal Hamlin \\\\\n",
       "\t17 & Andrew Johnson & Office vacant \\\\\n",
       "\t18 & Ulysses S. Grant & Schuyler Colfax \\\\\n",
       "\t19 & Rutherford B. Hayes & William A. Wheeler \\\\\n",
       "\t20 & James A. Garfield & Chester A. Arthur \\\\\n",
       "\t21 & Chester A. Arthur & Office vacant \\\\\n",
       "\t22 & Grover Cleveland & Thomas A. Hendricks \\\\\n",
       "\t23 & Benjamin Harrison & Levi P. Morton \\\\\n",
       "\t24 & Grover Cleveland & Adlai Stevenson \\\\\n",
       "\t25 & William McKinley & Garret Hobart \\\\\n",
       "\t26 & Theodore Roosevelt & Office vacant \\\\\n",
       "\t27 & William Howard Taft & James S. Sherman \\\\\n",
       "\t28 & Woodrow Wilson & Thomas R. Marshall \\\\\n",
       "\t29 & Warren G. Harding & Calvin Coolidge \\\\\n",
       "\t30 & Calvin Coolidge & Office vacant \\\\\n",
       "\t$\\dots$ & $\\dots$ & $\\dots$ \\\\\n",
       "\\end{tabular}\n"
      ],
      "text/plain": [
       "\u001b[1m46×2 DataFrame\u001b[0m\n",
       "\u001b[1m Row \u001b[0m│\u001b[1m name                   \u001b[0m\u001b[1m vice                   \u001b[0m\n",
       "     │\u001b[90m String31               \u001b[0m\u001b[90m String31               \u001b[0m\n",
       "─────┼────────────────────────────────────────────────\n",
       "   1 │ George Washington       John Adams\n",
       "   2 │ John Adams              Thomas Jefferson\n",
       "   3 │ Thomas Jefferson        Aaron Burr\n",
       "   4 │ James Madison           George Clinton\n",
       "   5 │ James Monroe            Daniel D. Tompkins\n",
       "   6 │ John Quincy Adams       John C. Calhoun\n",
       "   7 │ Andrew Jackson          John C. Calhoun\n",
       "   8 │ Martin Van Buren        Richard Mentor Johnson\n",
       "   9 │ William Henry Harrison  John Tyler\n",
       "  10 │ John Tyler              Office vacant\n",
       "  11 │ James K. Polk           George M. Dallas\n",
       "  ⋮  │           ⋮                       ⋮\n",
       "  37 │ Richard Nixon           Spiro Agnew\n",
       "  38 │ Gerald Ford             Office vacant\n",
       "  39 │ Jimmy Carter            Walter Mondale\n",
       "  40 │ Ronald Reagan           George H. W. Bush\n",
       "  41 │ George H. W. Bush       Dan Quayle\n",
       "  42 │ Bill Clinton            Al Gore\n",
       "  43 │ George W. Bush          Dick Cheney\n",
       "  44 │ Barack Obama            Joe Biden\n",
       "  45 │ Donald Trump            Mike Pence\n",
       "  46 │ Joe Biden               Kamela Harris\n",
       "\u001b[36m                                       25 rows omitted\u001b[0m"
      ]
     },
     "execution_count": 4,
     "metadata": {},
     "output_type": "execute_result"
    }
   ],
   "source": [
    "using CSV, Graphs, DataFrames\n",
    "\n",
    "# Load the CSV file\n",
    "data = CSV.read(raw\"D:\\GitHub\\AI\\graphs\\politics\\data\\politics_prez_vp_only.csv\", DataFrame)"
   ]
  },
  {
   "cell_type": "code",
   "execution_count": 5,
   "id": "c14a1cde-0c6e-44f2-b640-596ea6585854",
   "metadata": {},
   "outputs": [
    {
     "ename": "LoadError",
     "evalue": "MethodError: no method matching add_vertex!(::SimpleGraph{Int64}, ::String31)\n\u001b[0mClosest candidates are:\n\u001b[0m  add_vertex!(::SimpleGraph{T}) where T at C:\\Users\\Sean\\.julia\\packages\\Graphs\\2JiDT\\src\\SimpleGraphs\\simplegraph.jl:526",
     "output_type": "error",
     "traceback": [
      "MethodError: no method matching add_vertex!(::SimpleGraph{Int64}, ::String31)\n\u001b[0mClosest candidates are:\n\u001b[0m  add_vertex!(::SimpleGraph{T}) where T at C:\\Users\\Sean\\.julia\\packages\\Graphs\\2JiDT\\src\\SimpleGraphs\\simplegraph.jl:526",
      "",
      "Stacktrace:",
      " [1] top-level scope",
      "   @ .\\In[5]:6",
      " [2] eval",
      "   @ .\\boot.jl:360 [inlined]",
      " [3] include_string(mapexpr::typeof(REPL.softscope), mod::Module, code::String, filename::String)",
      "   @ Base .\\loading.jl:1116"
     ]
    }
   ],
   "source": [
    "# Create an empty graph\n",
    "g = Graph()\n",
    "\n",
    "# Create a dictionary to map string labels to integers\n",
    "nodes_dict = Dict()\n",
    "\n",
    "# Add nodes for presidents and vice presidents\n",
    "for i in 1:size(data,1)\n",
    "    if !haskey(nodes_dict, data[i, :president])\n",
    "        nodes_dict[data[i, :president]] = length(nodes_dict) + 1\n",
    "    end\n",
    "    if !haskey(nodes_dict, data[i, :vp])\n",
    "        nodes_dict[data[i, :vp]] = length(nodes_dict) + 1\n",
    "    end\n",
    "    add_vertex!(g)\n",
    "end\n",
    "\n",
    "# Add edges between presidents and vice presidents\n",
    "for i in 1:size(data,1)\n",
    "    add_edge!(g, nodes_dict[data[i, :president]], nodes_dict[data[i, :vp]])\n",
    "end\n",
    "\n"
   ]
  },
  {
   "cell_type": "code",
   "execution_count": 6,
   "id": "9700c420-df48-438a-a37e-51e549cd8d2f",
   "metadata": {},
   "outputs": [
    {
     "data": {
      "text/plain": [
       "{0, 0} undirected simple Int64 graph"
      ]
     },
     "metadata": {},
     "output_type": "display_data"
    }
   ],
   "source": [
    "# Display the graph\n",
    "display(g)"
   ]
  },
  {
   "cell_type": "code",
   "execution_count": null,
   "id": "931c8081-345c-4cfb-a215-fa0a4b6d95af",
   "metadata": {},
   "outputs": [],
   "source": []
  },
  {
   "cell_type": "code",
   "execution_count": null,
   "id": "f2fd97ee-5515-404e-b716-034cfa91a610",
   "metadata": {},
   "outputs": [],
   "source": []
  }
 ],
 "metadata": {
  "kernelspec": {
   "display_name": "Julia 1.6.7",
   "language": "julia",
   "name": "julia-1.6"
  },
  "language_info": {
   "file_extension": ".jl",
   "mimetype": "application/julia",
   "name": "julia",
   "version": "1.6.7"
  }
 },
 "nbformat": 4,
 "nbformat_minor": 5
}

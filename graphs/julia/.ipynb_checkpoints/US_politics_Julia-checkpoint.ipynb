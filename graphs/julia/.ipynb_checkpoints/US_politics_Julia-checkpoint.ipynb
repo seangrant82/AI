{
 "cells": [
  {
   "cell_type": "code",
   "execution_count": 1,
   "id": "adada613-ac68-42e7-ad53-ba64af261d0a",
   "metadata": {},
   "outputs": [
    {
     "name": "stderr",
     "output_type": "stream",
     "text": [
      "┌ Info: Precompiling CSV [336ed68f-0bac-5ca0-87d4-7b16caf5d00b]\n",
      "└ @ Base loading.jl:1342\n"
     ]
    },
    {
     "ename": "LoadError",
     "evalue": "syntax: invalid escape sequence",
     "output_type": "error",
     "traceback": [
      "syntax: invalid escape sequence",
      "",
      "Stacktrace:",
      " [1] top-level scope",
      "   @ In[1]:4",
      " [2] eval",
      "   @ .\\boot.jl:360 [inlined]",
      " [3] include_string(mapexpr::typeof(REPL.softscope), mod::Module, code::String, filename::String)",
      "   @ Base .\\loading.jl:1116"
     ]
    }
   ],
   "source": [
    "using CSV, Graphs\n",
    "\n",
    "# Load the CSV file\n",
    "data = CSV.read(\"D:\\\\GitHub\\\\AI\\\\graphs\\\\politics\\\\data\\\\politics_prez_vp_only.csv\")"
   ]
  },
  {
   "cell_type": "code",
   "execution_count": 2,
   "id": "c14a1cde-0c6e-44f2-b640-596ea6585854",
   "metadata": {},
   "outputs": [
    {
     "ename": "LoadError",
     "evalue": "UndefVarError: data not defined",
     "output_type": "error",
     "traceback": [
      "UndefVarError: data not defined",
      "",
      "Stacktrace:",
      " [1] top-level scope",
      "   @ .\\In[2]:5",
      " [2] eval",
      "   @ .\\boot.jl:360 [inlined]",
      " [3] include_string(mapexpr::typeof(REPL.softscope), mod::Module, code::String, filename::String)",
      "   @ Base .\\loading.jl:1116"
     ]
    }
   ],
   "source": [
    "# Create an empty graph\n",
    "g = Graph()\n",
    "\n",
    "# Add nodes for presidents and vice presidents\n",
    "for i in 1:size(data,1)\n",
    "    add_vertex!(g, data[i, :name])\n",
    "    add_vertex!(g, data[i, :vice])\n",
    "end\n",
    "\n",
    "# Add edges between presidents and vice presidents\n",
    "for i in 1:size(data,1)\n",
    "    add_edge!(g, data[i, :name], data[i, :vice])\n",
    "end\n"
   ]
  },
  {
   "cell_type": "code",
   "execution_count": 3,
   "id": "9700c420-df48-438a-a37e-51e549cd8d2f",
   "metadata": {},
   "outputs": [
    {
     "data": {
      "text/plain": [
       "{0, 0} undirected simple Int64 graph"
      ]
     },
     "metadata": {},
     "output_type": "display_data"
    }
   ],
   "source": [
    "# Display the graph\n",
    "display(g)"
   ]
  }
 ],
 "metadata": {
  "kernelspec": {
   "display_name": "Julia 1.6.7",
   "language": "julia",
   "name": "julia-1.6"
  },
  "language_info": {
   "file_extension": ".jl",
   "mimetype": "application/julia",
   "name": "julia",
   "version": "1.6.7"
  }
 },
 "nbformat": 4,
 "nbformat_minor": 5
}

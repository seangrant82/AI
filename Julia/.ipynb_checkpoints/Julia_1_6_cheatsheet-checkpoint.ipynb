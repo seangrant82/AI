{
 "cells": [
  {
   "cell_type": "markdown",
   "id": "26b5311d-8a75-48a4-b284-07c884a3e6fc",
   "metadata": {
    "tags": []
   },
   "source": [
    "# Cheatsheet for Julia commands"
   ]
  },
  {
   "attachments": {
    "337b3b6d-05fd-4bf5-90d3-82eaf602f07f.png": {
     "image/png": "[encoded data removed]"
    }
   },
   "cell_type": "markdown",
   "id": "a73a5501-d3a8-4357-b6b0-beebe13cf37b",
   "metadata": {},
   "source": [
    "![image.png](attachment:337b3b6d-05fd-4bf5-90d3-82eaf602f07f.png)"
   ]
  },
  {
   "cell_type": "markdown",
   "id": "9e3b5735-3f3a-4e71-b0f8-ca167e598176",
   "metadata": {
    "tags": []
   },
   "source": [
    "Here is a cheatsheet based on the Julia Academy notebooks. I am using this for reference"
   ]
  },
  {
   "cell_type": "code",
   "execution_count": 3,
   "id": "1e9a58f3-5f54-490b-a4a5-f70a1e7c000f",
   "metadata": {},
   "outputs": [
    {
     "name": "stdout",
     "output_type": "stream",
     "text": [
      "I'm excited to learn Julia!\n"
     ]
    }
   ],
   "source": [
    "#PRINT command\n",
    "println(\"I'm excited to learn Julia!\")"
   ]
  },
  {
   "cell_type": "markdown",
   "id": "40920ebc-8c6a-44fc-9ae2-ae7f41b63e89",
   "metadata": {},
   "source": [
    "## Math operations"
   ]
  },
  {
   "cell_type": "code",
   "execution_count": 6,
   "id": "35ccd25c-8dda-4b1d-bb52-45e38aa172f3",
   "metadata": {},
   "outputs": [
    {
     "data": {
      "text/plain": [
       "10"
      ]
     },
     "execution_count": 6,
     "metadata": {},
     "output_type": "execute_result"
    }
   ],
   "source": [
    "sum = 3 + 7"
   ]
  },
  {
   "cell_type": "code",
   "execution_count": 7,
   "id": "57b03a39-0865-4b16-b692-726ecd3c82f0",
   "metadata": {},
   "outputs": [
    {
     "data": {
      "text/plain": [
       "7"
      ]
     },
     "execution_count": 7,
     "metadata": {},
     "output_type": "execute_result"
    }
   ],
   "source": [
    "difference = 10 - 3"
   ]
  },
  {
   "cell_type": "code",
   "execution_count": 8,
   "id": "ba2eeb4d-cb88-4852-b579-52b1c5606848",
   "metadata": {},
   "outputs": [
    {
     "data": {
      "text/plain": [
       "100"
      ]
     },
     "execution_count": 8,
     "metadata": {},
     "output_type": "execute_result"
    }
   ],
   "source": [
    "product = 20 * 5"
   ]
  },
  {
   "cell_type": "code",
   "execution_count": 9,
   "id": "e5a0e26f-0960-4cb0-937c-eea8f51922eb",
   "metadata": {},
   "outputs": [
    {
     "data": {
      "text/plain": [
       "10.0"
      ]
     },
     "execution_count": 9,
     "metadata": {},
     "output_type": "execute_result"
    }
   ],
   "source": [
    "quotient = 100 / 10"
   ]
  },
  {
   "cell_type": "code",
   "execution_count": 10,
   "id": "87247c41-0b9b-48a8-a746-938f35047827",
   "metadata": {},
   "outputs": [
    {
     "data": {
      "text/plain": [
       "100"
      ]
     },
     "execution_count": 10,
     "metadata": {},
     "output_type": "execute_result"
    }
   ],
   "source": [
    "power = 10 ^ 2"
   ]
  },
  {
   "cell_type": "code",
   "execution_count": 11,
   "id": "ec77e4bf-1563-4282-999e-771b56934922",
   "metadata": {},
   "outputs": [
    {
     "data": {
      "text/plain": [
       "1"
      ]
     },
     "execution_count": 11,
     "metadata": {},
     "output_type": "execute_result"
    }
   ],
   "source": [
    "modulus = 101 % 2"
   ]
  },
  {
   "cell_type": "markdown",
   "id": "0eedfa39-5450-4a3b-a80a-92c232592594",
   "metadata": {},
   "source": [
    "## Variables and conversion"
   ]
  },
  {
   "cell_type": "code",
   "execution_count": 12,
   "id": "4047dbf5-9150-4038-a419-5bb628f2d6dd",
   "metadata": {},
   "outputs": [
    {
     "data": {
      "text/plain": [
       "Int64"
      ]
     },
     "execution_count": 12,
     "metadata": {},
     "output_type": "execute_result"
    }
   ],
   "source": [
    "#define variables using =\n",
    "my_answer = 42\n",
    "typeof(my_answer)"
   ]
  },
  {
   "cell_type": "code",
   "execution_count": 13,
   "id": "a8ea28c2-ac48-443e-bc6d-37d37f2a8df2",
   "metadata": {},
   "outputs": [
    {
     "data": {
      "text/plain": [
       "Float64"
      ]
     },
     "execution_count": 13,
     "metadata": {},
     "output_type": "execute_result"
    }
   ],
   "source": [
    "my_pi = 3.14159\n",
    "typeof(my_pi)"
   ]
  },
  {
   "cell_type": "code",
   "execution_count": 15,
   "id": "8af54706-3f9b-41bc-b1bd-e5e90a512ea5",
   "metadata": {},
   "outputs": [
    {
     "data": {
      "text/plain": [
       "String"
      ]
     },
     "execution_count": 15,
     "metadata": {},
     "output_type": "execute_result"
    }
   ],
   "source": [
    "#even use emoji's\n",
    "😺 = \"smiley cat!\"\n",
    "typeof(😺)\n"
   ]
  },
  {
   "cell_type": "code",
   "execution_count": 17,
   "id": "ceb67f1c-3f82-4c2d-91d9-6efcab8670c8",
   "metadata": {},
   "outputs": [],
   "source": [
    "# use cmd blow to select an emoji\n",
    "#\\:smi + <tab> --> select with down arrow + <enter> ---> <tab> + <enter> to complete"
   ]
  },
  {
   "cell_type": "code",
   "execution_count": null,
   "id": "4d18b063-0de8-4a42-9b4e-aab06bdc5f63",
   "metadata": {},
   "outputs": [],
   "source": []
  }
 ],
 "metadata": {
  "kernelspec": {
   "display_name": "Julia 1.6.7",
   "language": "julia",
   "name": "julia-1.6"
  },
  "language_info": {
   "file_extension": ".jl",
   "mimetype": "application/julia",
   "name": "julia",
   "version": "1.6.7"
  }
 },
 "nbformat": 4,
 "nbformat_minor": 5
}

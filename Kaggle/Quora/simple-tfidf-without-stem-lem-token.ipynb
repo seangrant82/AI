{
 "cells": [
  {
   "cell_type": "markdown",
   "metadata": {
    "_uuid": "e293b2a6439b76e63c43f912b4318324abe121fe"
   },
   "source": [
    "### Import modules"
   ]
  },
  {
   "cell_type": "code",
   "execution_count": null,
   "metadata": {
    "_uuid": "ffb49befc60867b4e2c6edc46ccec50d0497f39a"
   },
   "outputs": [],
   "source": [
    "import nltk\n",
    "import pandas as pd\n",
    "import re\n",
    "from sklearn.feature_extraction.text import TfidfVectorizer\n",
    "import string\n",
    "\n",
    "stopwords = nltk.corpus.stopwords.words('english')\n",
    "\n",
    "print('Imports Complete')"
   ]
  },
  {
   "cell_type": "markdown",
   "metadata": {
    "_uuid": "e6a10491126171c8d5e74fbc13217555dbcc35a4"
   },
   "source": [
    "### Read Data"
   ]
  },
  {
   "cell_type": "code",
   "execution_count": null,
   "metadata": {
    "_uuid": "56c9f7289599e7cc15469dbcdbf863ec88c573b2"
   },
   "outputs": [],
   "source": [
    "#Here is where I read my data into pandas dataframes\n",
    "train_df = pd.read_csv(\"../input/train.csv\")\n",
    "test_df = pd.read_csv(\"../input/test.csv\")\n",
    "\n"
   ]
  },
  {
   "cell_type": "code",
   "execution_count": null,
   "metadata": {
    "_uuid": "700253a37ad6f83b44bbfdd6b7dde7724f6590d3"
   },
   "outputs": [],
   "source": [
    "train_df.head()"
   ]
  },
  {
   "cell_type": "markdown",
   "metadata": {
    "_uuid": "6f811c95e1ee1d049192aa91c38eddcb460aa716"
   },
   "source": [
    "### Rebalance and reduce sample\n",
    "So I need to re-balanace the data since there are not an even amount of pos and neg example for training and predictions. Some friends of mine told me to always have a balance in order to prevent bias. I am also limiting the amount of features that are processed. This is due to memery limitations. When you run the code below you will see the total amount of features after the rebalanace is over 80,000. This willnot vectoize using our chosen vectorizer (TF-IDF). I have found that 50,000 is about the limit."
   ]
  },
  {
   "cell_type": "code",
   "execution_count": null,
   "metadata": {
    "_uuid": "cd3b5f861e9c6c32a01391f944e7a3c132f20f82"
   },
   "outputs": [],
   "source": [
    "\n",
    "from matplotlib import pyplot\n",
    "import numpy as np\n",
    "%matplotlib inline\n",
    "\n",
    "count_target_0, count_target_1 = train_df['target'].value_counts()\n",
    "\n",
    "train_df_target_0 = train_df[train_df['target'] == 0]\n",
    "train_df_target_1 = train_df[train_df['target'] == 1]\n",
    "\n",
    "train_df_target_0_under = train_df_target_0.sample(count_target_1)\n",
    "train_df_under = pd.concat([train_df_target_0_under, train_df_target_1], axis=0)\n",
    "\n",
    "train_df_under['target'].value_counts().plot(kind='bar', title='Count (target)')"
   ]
  },
  {
   "cell_type": "code",
   "execution_count": null,
   "metadata": {
    "_uuid": "74438bcc8cbe4a182b4e66d66b78581150cc3534"
   },
   "outputs": [],
   "source": [
    "train_df_under['target'].value_counts()"
   ]
  },
  {
   "cell_type": "code",
   "execution_count": null,
   "metadata": {
    "_uuid": "d0b52c59a0c2d63eb2c0534480ab70d7693c9909"
   },
   "outputs": [],
   "source": [
    "sam_train_under = train_df_under.sample(50000)"
   ]
  },
  {
   "cell_type": "markdown",
   "metadata": {
    "_uuid": "d056a49129426a13a68fbbe52ecebe252ee2fa03"
   },
   "source": [
    "### Let's get some test/train data\n",
    "Here is where I split thattraing 80/20 (as denoted by the .2 in the test_size parameter) into a test set and a training set. This 'hold out' method is common."
   ]
  },
  {
   "cell_type": "code",
   "execution_count": null,
   "metadata": {
    "_uuid": "17acc9861c1fc798cf0e77f119a444d0ae5154db"
   },
   "outputs": [],
   "source": [
    "from sklearn.model_selection import train_test_split\n",
    "\n",
    "X_train, X_test, y_train, y_test = train_test_split(sam_train_under[['question_text']], sam_train_under['target'], test_size=0.2)"
   ]
  },
  {
   "cell_type": "markdown",
   "metadata": {
    "_uuid": "cdca5d6f89d591096c370fb116018096dffa0598"
   },
   "source": [
    "### Vectorize\n",
    "Here is where I vectorize the words in the questions. I am using teh TF-IDF vectorizer. You could also use an N-gram or CountVectorizer as an alternative. Notice that I am removing the stopwords"
   ]
  },
  {
   "cell_type": "code",
   "execution_count": null,
   "metadata": {
    "_uuid": "9db6b8ea01706bc2972e8124cf283401da2a67e4"
   },
   "outputs": [],
   "source": [
    "tfidf_vect = TfidfVectorizer(stop_words='english')\n",
    "tfidf_vect_fit = tfidf_vect.fit(X_train['question_text'])\n",
    "\n",
    "tfidf_train = tfidf_vect_fit.transform(X_train['question_text'])\n",
    "tfidf_test = tfidf_vect_fit.transform(X_test['question_text'])\n",
    "\n",
    "X_train_vect = pd.DataFrame(tfidf_train.toarray())\n",
    "X_test_vect =  pd.DataFrame(tfidf_test.toarray())\n"
   ]
  },
  {
   "cell_type": "markdown",
   "metadata": {
    "_uuid": "ed8313469d49ec7545d637705e2feda58b79c99f"
   },
   "source": [
    "### Model eval\n",
    "This is where the rubber meets the road. I am trying out several different machine learning algorithm's to find which one works the best. Google \"no free lunch machine learning\" and you will understand"
   ]
  },
  {
   "cell_type": "code",
   "execution_count": null,
   "metadata": {
    "_uuid": "068f060b7c2c0e4a20f84fa6d4b42926954d99ef"
   },
   "outputs": [],
   "source": [
    "from sklearn.ensemble import RandomForestClassifier, GradientBoostingClassifier\n",
    "from sklearn.linear_model import LogisticRegression, SGDClassifier\n",
    "from sklearn.metrics import precision_recall_fscore_support as score\n",
    "import time"
   ]
  },
  {
   "cell_type": "markdown",
   "metadata": {
    "_uuid": "3bd9a2ca05f82f1ae43ee8a428a8c56fa173c6af"
   },
   "source": [
    "## Start with RandomForest\n",
    "rf = RandomForestClassifier(n_estimators=150, max_depth=None, n_jobs=-1)\n",
    "\n",
    "start = time.time()\n",
    "rf_model = rf.fit(X_train_vect, y_train)\n",
    "end = time.time()\n",
    "fit_time = (end - start)\n",
    "\n",
    "start = time.time()\n",
    "y_pred = rf_model.predict(X_test_vect)\n",
    "end = time.time()\n",
    "pred_time = (end - start)\n",
    "\n",
    "precision, recall, fscore, train_support = score(y_test, y_pred, pos_label=1, average='binary')\n",
    "print('Fit time: {} / Predict time: {} ---- Precision: {} / Recall: {} / Accuracy: {}'.format(\n",
    "    round(fit_time, 3), round(pred_time, 3), round(precision, 3), round(recall, 3), round((y_pred==y_test).sum()/len(y_pred), 3)))"
   ]
  },
  {
   "cell_type": "markdown",
   "metadata": {
    "_uuid": "4cf8ab4ed23e7d0ffcfab272871a86773e48c416"
   },
   "source": [
    "## Try stochastic gradient descent "
   ]
  },
  {
   "cell_type": "code",
   "execution_count": null,
   "metadata": {
    "_uuid": "ad4a1bde5b966953602440c61a38c076f31b9181"
   },
   "outputs": [],
   "source": [
    "sgd = SGDClassifier()\n",
    "\n",
    "start = time.time()\n",
    "sgd_model = sgd.fit(X_train_vect, y_train)\n",
    "end = time.time()\n",
    "fit_time = (end - start)\n",
    "\n",
    "start = time.time()\n",
    "y_pred = sgd_model.predict(X_test_vect)\n",
    "end = time.time()\n",
    "pred_time = (end - start)\n",
    "\n",
    "precision, recall, fscore, train_support = score(y_test, y_pred, pos_label=1, average='binary')\n",
    "print('Fit time: {} / Predict time: {} ---- Precision: {} / Recall: {} / Accuracy: {}'.format(\n",
    "    round(fit_time, 3), round(pred_time, 3), round(precision, 3), round(recall, 3), round((y_pred==y_test).sum()/len(y_pred), 3)))"
   ]
  },
  {
   "cell_type": "code",
   "execution_count": null,
   "metadata": {
    "_uuid": "d4c25a9a7b9b2db1e41ae4617526e53c26de4314"
   },
   "outputs": [],
   "source": [
    "### Try Logistic regression"
   ]
  },
  {
   "cell_type": "code",
   "execution_count": null,
   "metadata": {
    "_uuid": "9f844af208cb72de8583d83a1f6235b76ccb5e63"
   },
   "outputs": [],
   "source": [
    "lr = LogisticRegression(C=0.1, solver='sag')\n",
    "\n",
    "start = time.time()\n",
    "lr_model = lr.fit(X_train_vect, y_train)\n",
    "end = time.time()\n",
    "fit_time = (end - start)\n",
    "\n",
    "start = time.time()\n",
    "y_pred = lr_model.predict(X_test_vect)\n",
    "end = time.time()\n",
    "pred_time = (end - start)\n",
    "\n",
    "precision, recall, fscore, train_support = score(y_test, y_pred, pos_label=1, average='binary')\n",
    "print('Fit time: {} / Predict time: {} ---- Precision: {} / Recall: {} / Accuracy: {}'.format(\n",
    "    round(fit_time, 3), round(pred_time, 3), round(precision, 3), round(recall, 3), round((y_pred==y_test).sum()/len(y_pred), 3)))"
   ]
  },
  {
   "cell_type": "code",
   "execution_count": null,
   "metadata": {
    "_uuid": "3fe22ad8ac4c116d072ad42a3c67bfd9ae3fe5d8"
   },
   "outputs": [],
   "source": []
  },
  {
   "cell_type": "markdown",
   "metadata": {
    "_uuid": "776afa9ac731fca267f238010adefa9f152f7f0c"
   },
   "source": [
    "## Try GradientBoost\n",
    "gb = GradientBoostingClassifier(n_estimators=150, max_depth=11)\n",
    "\n",
    "start = time.time()\n",
    "gb_model = gb.fit(X_train_vect, y_train)\n",
    "end = time.time()\n",
    "fit_time = (end - start)\n",
    "\n",
    "start = time.time()\n",
    "y_pred = gb_model.predict(X_test_vect)\n",
    "end = time.time()\n",
    "pred_time = (end - start)\n",
    "\n",
    "precision, recall, fscore, train_support = score(y_test, y_pred, pos_label=1, average='binary')\n",
    "print('Fit time: {} / Predict time: {} ---- Precision: {} / Recall: {} / Accuracy: {}'.format(\n",
    "    round(fit_time, 3), round(pred_time, 3), round(precision, 3), round(recall, 3), round((y_pred==y_test).sum()/len(y_pred), 3)))"
   ]
  },
  {
   "cell_type": "markdown",
   "metadata": {
    "_uuid": "a295d92deec84b5ca919f856c33ddcb03f4f50e0"
   },
   "source": [
    "## Try XGBoost\n",
    "import xgboost as xgb\n",
    "gbm = xgb.XGBClassifier(n_job=-1)\n",
    "\n",
    "start = time.time()\n",
    "gbm_model = gbm.fit(X_train_vect, y_train)\n",
    "end = time.time()\n",
    "fit_time = (end - start)\n",
    "\n",
    "start = time.time()\n",
    "y_pred = gbm_model.predict(X_test_vect)\n",
    "end = time.time()\n",
    "pred_time = (end - start)\n",
    "\n",
    "precision, recall, fscore, train_support = score(y_test, y_pred, pos_label=1, average='binary')\n",
    "print('Fit time: {} / Predict time: {} ---- Precision: {} / Recall: {} / Accuracy: {}'.format(\n",
    "    round(fit_time, 3), round(pred_time, 3), round(precision, 3), round(recall, 3), round((y_pred==y_test).sum()/len(y_pred), 3)))"
   ]
  },
  {
   "cell_type": "markdown",
   "metadata": {
    "_uuid": "b40ca94f4cd3f6395043a1ed64e38654ee26d0e0"
   },
   "source": [
    "**I have turned the code blocks for the RandomForest, GradientBoost and XGBoost into markdown. I did this since RF and GB takes over an hour to process and XGB runs our of memory. LogisticRegression runs REALLY fast if you use the default solver (lbfgs) and a bit slower in my case when I chose 'sag' but also had the best results**"
   ]
  },
  {
   "cell_type": "markdown",
   "metadata": {
    "_uuid": "b98e1b31be4183c378b2513b6da2ae4ce0b7a9b2"
   },
   "source": [
    "### Build Submission \n",
    "This will load the test data and predict the values using our chosen classifier. Once that is complete, I create a submission CSV to evaluatemy results."
   ]
  },
  {
   "cell_type": "code",
   "execution_count": null,
   "metadata": {
    "_uuid": "12ae45512f7231fb95bc302d4113d31cd58a8eb6"
   },
   "outputs": [],
   "source": [
    "X_submission = tfidf_vect.transform(test_df['question_text'])\n",
    "predicted_test = sgd.predict(X_submission)\n",
    "\n",
    "test_df['prediction'] = predicted_test\n",
    "submission = test_df.drop(columns=['question_text'])\n",
    "submission.head()\n",
    "submission.to_csv('submission.csv', index=False)"
   ]
  },
  {
   "cell_type": "code",
   "execution_count": null,
   "metadata": {
    "_uuid": "c50b22b35108c57a25124cd0aace4a39173c0501"
   },
   "outputs": [],
   "source": []
  }
 ],
 "metadata": {
  "kernelspec": {
   "display_name": "Python 3",
   "language": "python",
   "name": "python3"
  },
  "language_info": {
   "codemirror_mode": {
    "name": "ipython",
    "version": 3
   },
   "file_extension": ".py",
   "mimetype": "text/x-python",
   "name": "python",
   "nbconvert_exporter": "python",
   "pygments_lexer": "ipython3",
   "version": "3.7.10"
  }
 },
 "nbformat": 4,
 "nbformat_minor": 4
}
